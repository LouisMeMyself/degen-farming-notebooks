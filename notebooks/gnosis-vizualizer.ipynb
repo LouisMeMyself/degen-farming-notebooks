{
 "cells": [
  {
   "cell_type": "code",
   "execution_count": null,
   "metadata": {},
   "outputs": [],
   "source": [
    "import datetime\n",
    "import web3"
   ]
  },
  {
   "cell_type": "code",
   "execution_count": null,
   "metadata": {},
   "outputs": [],
   "source": [
    "rpc = \"https://rpc.ankr.com/gnosis\"\n",
    "# rpc = \"https://rpc.gnosischain.com\"\n",
    "w3 = web3.Web3(web3.Web3.HTTPProvider(rpc))"
   ]
  },
  {
   "cell_type": "code",
   "execution_count": null,
   "metadata": {},
   "outputs": [],
   "source": [
    "wallet = \"0x008eEB180F9Fb7190b8f2C0Ed1bEEf92Fb2Ddf32\"\n",
    "\n",
    "vault = w3.eth.contract(\n",
    "    address=\"0xaf204776c7245bF4147c2612BF6e5972Ee483701\",\n",
    "    abi=[\n",
    "        {\n",
    "            \"inputs\": [{\"internalType\": \"address\", \"name\": \"owner\", \"type\": \"address\"}],\n",
    "            \"name\": \"maxWithdraw\",\n",
    "            \"outputs\": [{\"internalType\": \"uint256\", \"name\": \"\", \"type\": \"uint256\"}],\n",
    "            \"stateMutability\": \"view\",\n",
    "            \"type\": \"function\",\n",
    "        }\n",
    "    ],\n",
    ")\n",
    "\n",
    "interest = w3.eth.contract(\n",
    "    address=\"0x670daeaF0F1a5e336090504C68179670B5059088\",\n",
    "    abi=[\n",
    "        {\n",
    "            \"inputs\": [],\n",
    "            \"name\": \"vaultAPY\",\n",
    "            \"outputs\": [{\"internalType\": \"uint256\", \"name\": \"\", \"type\": \"uint256\"}],\n",
    "            \"stateMutability\": \"view\",\n",
    "            \"type\": \"function\",\n",
    "        }\n",
    "    ],\n",
    ")"
   ]
  },
  {
   "cell_type": "code",
   "execution_count": null,
   "metadata": {},
   "outputs": [],
   "source": [
    "blocks = [33210412, 33210533, 33838226, 34865340, \"latest\"]\n",
    "wallet_balance = 0\n",
    "start_time = 0\n",
    "total_delta_balance = 0\n",
    "\n",
    "weighted_apr = 0\n",
    "total_weight = 0\n",
    "for i in range(len(blocks) - 1):\n",
    "    block = blocks[i]\n",
    "    next_block = blocks[i + 1]\n",
    "    next_block = next_block - 1 if next_block != \"latest\" else next_block\n",
    "\n",
    "    date = w3.eth.get_block(block)[\"timestamp\"]\n",
    "    next_date = w3.eth.get_block(next_block)[\"timestamp\"]\n",
    "\n",
    "    balance = vault.functions.maxWithdraw(wallet).call(block_identifier=block)\n",
    "    next_balance = vault.functions.maxWithdraw(wallet).call(block_identifier=next_block)\n",
    "\n",
    "    if i == 0:\n",
    "        start_time = date\n",
    "    if next_block == \"latest\":\n",
    "        wallet_balance = next_balance\n",
    "\n",
    "    delta_balance = next_balance - balance\n",
    "    delta_time = next_date - date\n",
    "\n",
    "    total_delta_balance += delta_balance\n",
    "\n",
    "    weighted_apr += (delta_balance / balance) * 31_536_000\n",
    "    total_weight += delta_time\n",
    "\n",
    "print(f\"Vault APY: {interest.functions.vaultAPY().call() / 1e16:.2f}%\")\n",
    "print(f\"Wallet balance: ${wallet_balance / 1e18:.2f}\")\n",
    "\n",
    "delta_time = datetime.datetime.now() - datetime.datetime.fromtimestamp(start_time)\n",
    "\n",
    "print(f\"\\nOverall performance:\")\n",
    "print(\n",
    "    f\"Running for {delta_time.days} days {delta_time.seconds // 3600} hours {delta_time.seconds % 3600 // 60} minutes\"\n",
    ")\n",
    "print(f\"Balance change: ${total_delta_balance / 1e18:.2f}\")\n",
    "print(f\"APR: {weighted_apr / total_weight * 100:.2f}%\")"
   ]
  },
  {
   "cell_type": "code",
   "execution_count": null,
   "metadata": {},
   "outputs": [],
   "source": []
  }
 ],
 "metadata": {
  "kernelspec": {
   "display_name": "notebooks-dCeGiXWB-py3.11",
   "language": "python",
   "name": "python3"
  },
  "language_info": {
   "codemirror_mode": {
    "name": "ipython",
    "version": 3
   },
   "file_extension": ".py",
   "mimetype": "text/x-python",
   "name": "python",
   "nbconvert_exporter": "python",
   "pygments_lexer": "ipython3",
   "version": "3.11.10"
  }
 },
 "nbformat": 4,
 "nbformat_minor": 2
}
