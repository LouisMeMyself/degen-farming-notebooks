{
 "cells": [
  {
   "cell_type": "code",
   "execution_count": null,
   "metadata": {},
   "outputs": [],
   "source": [
    "import pandas as pd\n",
    "import numpy as np\n",
    "import matplotlib.pyplot as plt"
   ]
  },
  {
   "cell_type": "code",
   "execution_count": null,
   "metadata": {},
   "outputs": [],
   "source": [
    "wallets = pd.read_csv(\"wallets_cleaned.csv\")"
   ]
  },
  {
   "cell_type": "code",
   "execution_count": null,
   "metadata": {},
   "outputs": [],
   "source": [
    "wallets[\"rank\"] = wallets.index + 1"
   ]
  },
  {
   "cell_type": "code",
   "execution_count": null,
   "metadata": {},
   "outputs": [],
   "source": [
    "allocations = [0.22, 0.48, 0.2, 0]\n",
    "slopes = [0.0125, 0.002, 0.00105, 0]\n",
    "counts = [96, 852, 4052, np.inf]"
   ]
  },
  {
   "cell_type": "code",
   "execution_count": null,
   "metadata": {},
   "outputs": [],
   "source": [
    "[0, sum(counts[0:1]), sum(counts[0:2]), sum(counts[0:2], len(wallets))],\n",
    "cum_counts = [0] + [sum(counts[:i]) for i in range(1, len(counts) + 1)]\n",
    "weights = [(((1 + slopes[i]) ** counts[i]) - 1) / slopes[i] if slopes[i] != 0 else 1 for i in range(len(slopes))]"
   ]
  },
  {
   "cell_type": "code",
   "execution_count": null,
   "metadata": {},
   "outputs": [],
   "source": [
    "wallets[\"tier\"] = pd.cut(wallets[\"rank\"], bins=cum_counts, labels=range(1, len(counts) + 1))"
   ]
  },
  {
   "cell_type": "code",
   "execution_count": null,
   "metadata": {},
   "outputs": [],
   "source": [
    "wallets[\"allocation\"] = wallets.apply(lambda row: (1 + slopes[row[\"tier\"] - 1]) ** (cum_counts[row[\"tier\"]] - row[\"rank\"]) * allocations[row[\"tier\"] - 1] / weights[row[\"tier\"] - 1], axis=1)"
   ]
  },
  {
   "cell_type": "code",
   "execution_count": null,
   "metadata": {},
   "outputs": [],
   "source": [
    "total_bridged = wallets[\"JOE_BRIDGED\"].sum()\n",
    "wallets[\"ratio\"] = wallets[\"allocation\"] / (wallets[\"JOE_BRIDGED\"] / total_bridged)"
   ]
  },
  {
   "cell_type": "code",
   "execution_count": null,
   "metadata": {},
   "outputs": [],
   "source": [
    "ranks = wallets[\"rank\"]\n",
    "allocations = np.log(wallets[\"allocation\"])\n",
    "\n",
    "plt.plot(ranks, allocations)\n",
    "plt.show()"
   ]
  },
  {
   "cell_type": "code",
   "execution_count": null,
   "metadata": {},
   "outputs": [],
   "source": [
    "ranks = wallets[\"rank\"]\n",
    "ratios = np.log(wallets[\"ratio\"])\n",
    "\n",
    "plt.plot(ranks, ratios)"
   ]
  },
  {
   "cell_type": "code",
   "execution_count": null,
   "metadata": {},
   "outputs": [],
   "source": [
    "for tier in range(1, len(counts)):\n",
    "    print(f\"Tier {tier}: ({cum_counts[tier-1]}, {cum_counts[tier] - 1})\")\n",
    "    print(f\"Allocation: {wallets['allocation'].loc[cum_counts[tier-1]]}, {wallets['allocation'].loc[cum_counts[tier] - 1]}\")"
   ]
  },
  {
   "cell_type": "code",
   "execution_count": null,
   "metadata": {},
   "outputs": [],
   "source": []
  }
 ],
 "metadata": {
  "kernelspec": {
   "display_name": "notebooks-dCeGiXWB-py3.11",
   "language": "python",
   "name": "python3"
  },
  "language_info": {
   "codemirror_mode": {
    "name": "ipython",
    "version": 3
   },
   "file_extension": ".py",
   "mimetype": "text/x-python",
   "name": "python",
   "nbconvert_exporter": "python",
   "pygments_lexer": "ipython3",
   "version": "3.11.10"
  }
 },
 "nbformat": 4,
 "nbformat_minor": 2
}
